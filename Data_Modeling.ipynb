{
  "nbformat": 4,
  "nbformat_minor": 0,
  "metadata": {
    "colab": {
      "provenance": [],
      "include_colab_link": true
    },
    "kernelspec": {
      "name": "python3",
      "display_name": "Python 3"
    },
    "language_info": {
      "name": "python"
    }
  },
  "cells": [
    {
      "cell_type": "markdown",
      "metadata": {
        "id": "view-in-github",
        "colab_type": "text"
      },
      "source": [
        "<a href=\"https://colab.research.google.com/github/theritac/KPMG-1B/blob/byeolah/Data_Modeling.ipynb\" target=\"_parent\"><img src=\"https://colab.research.google.com/assets/colab-badge.svg\" alt=\"Open In Colab\"/></a>"
      ]
    },
    {
      "cell_type": "markdown",
      "source": [
        "# Data Modeling (Random Forest)"
      ],
      "metadata": {
        "id": "wigs-FzZ3hTI"
      }
    },
    {
      "cell_type": "code",
      "execution_count": null,
      "metadata": {
        "id": "RcO9GQlz3eDh"
      },
      "outputs": [],
      "source": [
        "import pandas as pd\n",
        "import numpy as np\n",
        "import os\n",
        "import matplotlib.pyplot as plt\n",
        "import seaborn as sns"
      ]
    },
    {
      "cell_type": "code",
      "source": [
        "from sklearn.ensemble import RandomForestRegressor\n",
        "from sklearn.model_selection import train_test_split, cross_val_score"
      ],
      "metadata": {
        "id": "mFMpvehM4k6k"
      },
      "execution_count": null,
      "outputs": []
    },
    {
      "cell_type": "code",
      "source": [
        "#read in clean data\n",
        "df = pd.read_csv('/content/drive/MyDrive/KPMG #1 (NYC) - Realizing Gender Equality in the Workplace: Low Wage Geographies (Team B)/Data/TIDY_DATA/clean_data_merged.csv')\n",
        "df.shape"
      ],
      "metadata": {
        "id": "h4_9Urnj3nl9",
        "colab": {
          "base_uri": "https://localhost:8080/"
        },
        "outputId": "295f1958-1a6f-44d5-e822-6c20c84eeb04"
      },
      "execution_count": null,
      "outputs": [
        {
          "output_type": "execute_result",
          "data": {
            "text/plain": [
              "(264, 105)"
            ]
          },
          "metadata": {},
          "execution_count": 6
        }
      ]
    },
    {
      "cell_type": "code",
      "source": [
        "y = df['EMPLOYMENT_FEMALE_POP']\n",
        "X = df.drop(columns = 'EMPLOYMENT_FEMALE_POP', axis=1)"
      ],
      "metadata": {
        "id": "uO4j81pv4XTq"
      },
      "execution_count": null,
      "outputs": []
    },
    {
      "cell_type": "code",
      "source": [
        "X_train, X_test, y_train, y_test = train_test_split(X, y, test_size=0.33, random_state=1234)"
      ],
      "metadata": {
        "id": "ct2zkfHX4zHH"
      },
      "execution_count": null,
      "outputs": []
    },
    {
      "cell_type": "code",
      "source": [
        "print('Begin RF Implementation...')\n",
        "\n",
        "# 1. Create the RandomForestRegressor model object below and assign to variable 'rf_model'\n",
        "rf_model = RandomForestRegressor(max_depth = 32, n_estimators = 300)\n",
        "\n",
        "# 2. Fit the model to the training data below\n",
        "rf_model.fit(X_train, y_train)\n",
        "\n",
        "# 3. Call predict() to use the fitted model to make predictions on the test data. Save the results to variable\n",
        "# 'y_rf_pred'\n",
        "y_rf_pred = rf_model.predict(X_test)\n",
        "\n",
        "# 4. Compute the RMSE and R2 (on y_test and y_rf_pred) and save the results to rf_rmse and rf_r2\n",
        "# rf_rmse = mean_squared_error(y_test, y_rf_pred, squared=False)\n",
        "# rf_r2 = r2_score(y_test, y_rf_pred)\n",
        "\n",
        "print('End')"
      ],
      "metadata": {
        "colab": {
          "base_uri": "https://localhost:8080/"
        },
        "id": "QgRtp_8N4zJc",
        "outputId": "2134a02e-d64b-4312-c49f-f325d392c661"
      },
      "execution_count": null,
      "outputs": [
        {
          "output_type": "stream",
          "name": "stdout",
          "text": [
            "Begin Random Forest Implementation...\n",
            "End\n"
          ]
        }
      ]
    },
    {
      "cell_type": "code",
      "source": [],
      "metadata": {
        "id": "I98w98zxCcI0"
      },
      "execution_count": null,
      "outputs": []
    }
  ]
}